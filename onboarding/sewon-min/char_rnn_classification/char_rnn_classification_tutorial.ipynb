{
  "cells": [
    {
      "cell_type": "markdown",
      "metadata": {
        "id": "view-in-github",
        "colab_type": "text"
      },
      "source": [
        "<a href=\"https://colab.research.google.com/github/givemethatsewon/urp-summer-2025/blob/main/onboarding/sewon-min/char_rnn_classification/char_rnn_classification_tutorial.ipynb\" target=\"_parent\"><img src=\"https://colab.research.google.com/assets/colab-badge.svg\" alt=\"Open In Colab\"/></a>"
      ]
    },
    {
      "cell_type": "code",
      "execution_count": 1,
      "metadata": {
        "id": "Do_LvQeIl08v"
      },
      "outputs": [],
      "source": [
        "# Google Colab에서 노트북을 실행하실 때에는\n",
        "# https://tutorials.pytorch.kr/beginner/colab 를 참고하세요.\n",
        "%matplotlib inline"
      ]
    },
    {
      "cell_type": "markdown",
      "metadata": {
        "id": "1t-r5cQ7l08y"
      },
      "source": [
        "\n",
        "# 기초부터 시작하는 NLP: 문자-단위 RNN으로 이름 분류하기\n",
        "\n",
        "**Author**: [Sean Robertson](https://github.com/spro)\n",
        "  **번역**: [황성수](https://github.com/adonisues), [김제필](https://github.com/garlicvread)\n",
        "\n",
        "\n",
        "여기에서는 단어를 분류하기 위해 기초적인 문자-단위의 순환 신경망(RNN, Recurrent Nueral Network)을\n",
        "구축하고 학습할 예정입니다. 이 튜토리얼 및 이후 2개 튜토리얼인 :doc:`/intermediate/char_rnn_generation_tutorial`\n",
        "및 :doc:`/intermediate/seq2seq_translation_tutorial` 에서는 자연어 처리(NLP, Natural Language Processing)\n",
        "분야에서 어떻게 데이터를 전처리하고 NLP 모델을 구축하는지를 밑바닥부터(from scratch) 설명합니다.\n",
        "이를 위해 이 튜토리얼 시리즈에서는 `torchtext` 의 수많은 편리한 기능들을 사용하지 않고\n",
        "NLP 모델링을 위한 데이터 전처리가 밑바닥(low-level)에서 어떻게 진행되는지 알 수 있습니다.\n",
        "\n",
        "문자-단위 RNN은 단어를 문자의 연속으로 읽어 들여서 각 단계의 예측과\n",
        "\"은닉 상태(Hidden State)\"를 출력하고, 다음 단계에 이전 단계의 은닉 상태를 전달합니다.\n",
        "단어가 속한 클래스로 출력되도록 최종 예측으로 선택합니다.\n",
        "\n",
        "구체적으로, 18개 언어로 된 수천 개의 성(姓)을 훈련시키고,\n",
        "철자에 따라 이름이 어떤 언어인지 예측합니다:\n",
        "\n",
        "```sh\n",
        "$ python predict.py Hinton\n",
        "(-0.47) Scottish\n",
        "(-1.52) English\n",
        "(-3.57) Irish\n",
        "\n",
        "$ python predict.py Schmidhuber\n",
        "(-0.19) German\n",
        "(-2.48) Czech\n",
        "(-2.68) Dutch\n",
        "```\n",
        "## 준비 과정\n",
        "\n",
        "이 튜토리얼을 시작하기 전, PyTorch를 이미 설치했으며, Python 프로그래밍 언어와\n",
        "Tensor에 대한 기본적인 이해를 하고 계셔야 합니다:\n",
        "\n",
        "-  https://pytorch.kr/ 에서 설치 안내를 찾을 수 있으며,\n",
        "-  :doc:`/beginner/deep_learning_60min_blitz` 를 통해 PyTorch의 일반적인 내용과 Tensor에 대해 익힐 수 있습니다.\n",
        "-  :doc:`/beginner/pytorch_with_examples` 는 넓고 깊은 개요(overview)를 제공하며,\n",
        "-  :doc:`/beginner/former_torchies_tutorial` 이전 Lua Torch 사용자를 위한 자료입니다.\n",
        "\n",
        "RNN과 그 작동 방식을 아는 것 또한 유용합니다:\n",
        "\n",
        "-  [The Unreasonable Effectiveness of Recurrent Neural\n",
        "   Networks](https://karpathy.github.io/2015/05/21/rnn-effectiveness/)_\n",
        "   실생활 예제를 보여 줍니다.\n",
        "-  [Understanding LSTM\n",
        "   Networks](https://colah.github.io/posts/2015-08-Understanding-LSTMs/)_\n",
        "   LSTM에 관한 것이지만 RNN에 관해서도 유익합니다.\n",
        "\n",
        "## 데이터 준비\n",
        "\n",
        "<div class=\"alert alert-info\"><h4>Note</h4><p>[여기](https://download.pytorch.org/tutorial/data.zip)_ 에서 데이터를 다운로드 받고\n",
        "   현재 디렉토리에 압축을 푸십시오.</p></div>\n",
        "\n",
        "``data/names`` 디렉토리에는 ``[Language].txt`` 라는 18 개의 텍스트 파일이 있습니다.\n",
        "각 파일에는 한 줄에 하나의 이름이 포함되어 있으며 대부분 로마자로 되어 있습니다.\n",
        "(그러나, 유니코드에서 ASCII로 변환해야 함).\n",
        "\n",
        "각 언어 별로 이름 목록 사전 ``{language: [names ...]}`` 을 만듭니다.\n",
        "일반 변수 \"category\" 와 \"line\" (우리의 경우 언어와 이름)은 이후의 확장성을 위해 사용됩니다.\n",
        "\n",
        "<div class=\"alert alert-info\"><h4>Note</h4><p>역자 주: \"line\" 에 입력을 \"category\"에 클래스를 적용하여 다른 문제에도 활용할 수 있습니다.\n",
        "   여기서는 \"line\"에 이름(ex. Robert)을 입력으로, \"category\"에 클래스(ex. english)로 사용합니다.</p></div>\n"
      ]
    },
    {
      "cell_type": "code",
      "source": [
        "!wget https://download.pytorch.org/tutorial/data.zip\n",
        "!unzip data.zip"
      ],
      "metadata": {
        "id": "FxX_7vdYn3yg",
        "outputId": "97f528f5-13c2-4f90-93bf-14263ba89c26",
        "colab": {
          "base_uri": "https://localhost:8080/"
        }
      },
      "execution_count": 25,
      "outputs": [
        {
          "output_type": "stream",
          "name": "stdout",
          "text": [
            "--2025-07-14 11:08:54--  https://download.pytorch.org/tutorial/data.zip\n",
            "Resolving download.pytorch.org (download.pytorch.org)... 18.239.225.55, 18.239.225.75, 18.239.225.61, ...\n",
            "Connecting to download.pytorch.org (download.pytorch.org)|18.239.225.55|:443... connected.\n",
            "HTTP request sent, awaiting response... 200 OK\n",
            "Length: 2882130 (2.7M) [application/zip]\n",
            "Saving to: ‘data.zip’\n",
            "\n",
            "\rdata.zip              0%[                    ]       0  --.-KB/s               \rdata.zip            100%[===================>]   2.75M  --.-KB/s    in 0.09s   \n",
            "\n",
            "2025-07-14 11:08:54 (29.9 MB/s) - ‘data.zip’ saved [2882130/2882130]\n",
            "\n",
            "Archive:  data.zip\n",
            "  inflating: data/eng-fra.txt        \n",
            "   creating: data/names/\n",
            "  inflating: data/names/Arabic.txt   \n",
            "  inflating: data/names/Chinese.txt  \n",
            "  inflating: data/names/Czech.txt    \n",
            "  inflating: data/names/Dutch.txt    \n",
            "  inflating: data/names/English.txt  \n",
            "  inflating: data/names/French.txt   \n",
            "  inflating: data/names/German.txt   \n",
            "  inflating: data/names/Greek.txt    \n",
            "  inflating: data/names/Irish.txt    \n",
            "  inflating: data/names/Italian.txt  \n",
            "  inflating: data/names/Japanese.txt  \n",
            "  inflating: data/names/Korean.txt   \n",
            "  inflating: data/names/Polish.txt   \n",
            "  inflating: data/names/Portuguese.txt  \n",
            "  inflating: data/names/Russian.txt  \n",
            "  inflating: data/names/Scottish.txt  \n",
            "  inflating: data/names/Spanish.txt  \n",
            "  inflating: data/names/Vietnamese.txt  \n"
          ]
        }
      ]
    },
    {
      "cell_type": "code",
      "execution_count": 26,
      "metadata": {
        "id": "LQcNBwfal08z",
        "outputId": "8fe9b20b-90a3-448f-ac66-faae86d04651",
        "colab": {
          "base_uri": "https://localhost:8080/"
        }
      },
      "outputs": [
        {
          "output_type": "stream",
          "name": "stdout",
          "text": [
            "['data/names/Chinese.txt', 'data/names/Dutch.txt', 'data/names/Korean.txt', 'data/names/English.txt', 'data/names/Spanish.txt', 'data/names/French.txt', 'data/names/Japanese.txt', 'data/names/Portuguese.txt', 'data/names/Italian.txt', 'data/names/German.txt', 'data/names/Arabic.txt', 'data/names/Russian.txt', 'data/names/Vietnamese.txt', 'data/names/Scottish.txt', 'data/names/Czech.txt', 'data/names/Greek.txt', 'data/names/Irish.txt', 'data/names/Polish.txt']\n",
            "Slusarski\n"
          ]
        }
      ],
      "source": [
        "from __future__ import unicode_literals, print_function, division\n",
        "from io import open\n",
        "import glob\n",
        "import os\n",
        "\n",
        "def findFiles(path): return glob.glob(path)\n",
        "\n",
        "print(findFiles('data/names/*.txt'))\n",
        "\n",
        "import unicodedata\n",
        "import string\n",
        "\n",
        "all_letters = string.ascii_letters + \" .,;'\"\n",
        "n_letters = len(all_letters)\n",
        "\n",
        "# 유니코드 문자열을 ASCII로 변환, https://stackoverflow.com/a/518232/2809427\n",
        "def unicodeToAscii(s):\n",
        "    return ''.join(\n",
        "        c for c in unicodedata.normalize('NFD', s)\n",
        "        if unicodedata.category(c) != 'Mn'\n",
        "        and c in all_letters\n",
        "    )\n",
        "\n",
        "print(unicodeToAscii('Ślusàrski'))\n",
        "\n",
        "# 각 언어의 이름 목록인 category_lines 사전 생성\n",
        "category_lines = {}\n",
        "all_categories = []\n",
        "\n",
        "# 파일을 읽고 줄 단위로 분리\n",
        "def readLines(filename):\n",
        "    lines = open(filename, encoding='utf-8').read().strip().split('\\n')\n",
        "    return [unicodeToAscii(line) for line in lines]\n",
        "\n",
        "for filename in findFiles('data/names/*.txt'):\n",
        "    category = os.path.splitext(os.path.basename(filename))[0]\n",
        "    all_categories.append(category)\n",
        "    lines = readLines(filename)\n",
        "    category_lines[category] = lines\n",
        "\n",
        "n_categories = len(all_categories)"
      ]
    },
    {
      "cell_type": "markdown",
      "metadata": {
        "id": "0QqJHVinl080"
      },
      "source": [
        "이제 각 ``category`` (언어)를 ``line`` (이름)에 매핑하는 사전인\n",
        "``category_lines`` 를 만들었습니다. 나중에 참조할 수 있도록\n",
        "``all_categories`` (언어 목록)와 ``n_categories`` 도 추적합니다.\n",
        "\n",
        "\n"
      ]
    },
    {
      "cell_type": "code",
      "execution_count": 27,
      "metadata": {
        "id": "xALI5R_Fl080",
        "outputId": "9fbf94d4-7503-4f76-fd87-e843c15bbfe3",
        "colab": {
          "base_uri": "https://localhost:8080/"
        }
      },
      "outputs": [
        {
          "output_type": "stream",
          "name": "stdout",
          "text": [
            "['Abandonato', 'Abatangelo', 'Abatantuono', 'Abate', 'Abategiovanni']\n"
          ]
        }
      ],
      "source": [
        "print(category_lines['Italian'][:5])"
      ]
    },
    {
      "cell_type": "markdown",
      "metadata": {
        "id": "5vGesJv5l080"
      },
      "source": [
        "### 이름을 Tensor로 변경\n",
        "\n",
        "이제 모든 이름을 체계화했으므로, 이를 활용하기 위해 Tensor로\n",
        "변환해야 합니다.\n",
        "\n",
        "하나의 문자를 표현하기 위해 크기가 ``<1 x n_letters>`` 인\n",
        "\"One-Hot 벡터\"를 사용합니다. One-Hot 벡터는 현재 문자의\n",
        "주소에는 1이, 그 외 나머지 주소에는 0이 채워진 벡터입니다.\n",
        "예시 ``\"b\" = <0 1 0 0 0 ...>`` .\n",
        "\n",
        "단어를 만들기 위해 One-Hot 벡터들을 2차원 행렬\n",
        "``<line_length x 1 x n_letters>`` 에 결합시킵니다.\n",
        "\n",
        "위에서 보이는 추가적인 1차원은 PyTorch에서 모든 것이 배치(batch)에 있다고 가정하기\n",
        "때문에 발생합니다. 여기서는 배치 크기 1을 사용하고 있습니다.\n",
        "\n",
        "\n"
      ]
    },
    {
      "cell_type": "code",
      "execution_count": 28,
      "metadata": {
        "id": "i82ofwb7l081",
        "outputId": "3744dbd3-32ce-405d-ac6e-12c3d16c4ae1",
        "colab": {
          "base_uri": "https://localhost:8080/"
        }
      },
      "outputs": [
        {
          "output_type": "stream",
          "name": "stdout",
          "text": [
            "tensor([[0., 0., 0., 0., 0., 0., 0., 0., 0., 0., 0., 0., 0., 0., 0., 0., 0., 0.,\n",
            "         0., 0., 0., 0., 0., 0., 0., 0., 0., 0., 0., 0., 0., 0., 0., 0., 0., 1.,\n",
            "         0., 0., 0., 0., 0., 0., 0., 0., 0., 0., 0., 0., 0., 0., 0., 0., 0., 0.,\n",
            "         0., 0., 0.]])\n",
            "torch.Size([5, 1, 57])\n"
          ]
        }
      ],
      "source": [
        "# .. note::\n",
        "#    역자 주: One-Hot 벡터는 언어 및 범주형 데이터를 다룰 때 주로 사용하며,\n",
        "#    단어, 글자 등을 벡터로 표현할 때 단어, 글자 사이의 상관 관계를 미리 알 수 없을 경우,\n",
        "#    One-Hot으로 표현하여 서로 직교한다고 가정하고 학습을 시작합니다.\n",
        "#    이와 동일하게, 상관 관계를 알 수 없는 다른 데이터의 경우에도 One-Hot 벡터를 활용할 수 있습니다.\n",
        "#\n",
        "\n",
        "import torch\n",
        "\n",
        "# all_letters 로 문자의 주소 찾기, 예시 \"a\" = 0\n",
        "def letterToIndex(letter):\n",
        "    return all_letters.find(letter)\n",
        "\n",
        "# 검증을 위해서 한 개의 문자를 <1 x n_letters> Tensor로 변환\n",
        "def letterToTensor(letter):\n",
        "    tensor = torch.zeros(1, n_letters)\n",
        "    tensor[0][letterToIndex(letter)] = 1\n",
        "    return tensor\n",
        "\n",
        "# 한 줄(이름)을  <line_length x 1 x n_letters>,\n",
        "# 또는 One-Hot 문자 벡터의 Array로 변경\n",
        "def lineToTensor(line):\n",
        "    tensor = torch.zeros(len(line), 1, n_letters)\n",
        "    for li, letter in enumerate(line):\n",
        "        tensor[li][0][letterToIndex(letter)] = 1\n",
        "    return tensor\n",
        "\n",
        "print(letterToTensor('J'))\n",
        "\n",
        "print(lineToTensor('Jones').size())"
      ]
    },
    {
      "cell_type": "markdown",
      "metadata": {
        "id": "nu5D4caNl081"
      },
      "source": [
        "## 네트워크 생성\n",
        "\n",
        "Autograd 전에, Torch에서 RNN(recurrent neural network) 생성은\n",
        "여러 시간 단계 걸쳐서 계층의 매개변수를 복제하는 작업을 포함합니다.\n",
        "계층은 은닉 상태와 변화도(Gradient)를 가지며, 이제 이것들은 그래프 자체에서\n",
        "완전히 처리됩니다. 이는 feed-forward 계층과\n",
        "같은 매우 \"순수한\" 방법으로 RNN을 구현할 수 있음을 의미합니다.\n",
        "\n",
        "<div class=\"alert alert-info\"><h4>Note</h4><p>역자 주: 여기서는 학습 목적으로 nn.RNN 대신 직접 RNN을 사용합니다.</p></div>\n",
        "\n",
        "이 RNN 모듈은 \"기본(vanilla)적인 RNN\"을 구현하며, 입력과 은닉 상태(hidden state),\n",
        "그리고 출력 뒤 동작하는 ``LogSoftmax`` 계층이 있는 3개의 선형 계층만을 가집니다.\n",
        "\n",
        "\n"
      ]
    },
    {
      "cell_type": "code",
      "execution_count": 29,
      "metadata": {
        "id": "wvVal6Ljl082"
      },
      "outputs": [],
      "source": [
        "import torch.nn as nn\n",
        "import torch.nn.functional as F\n",
        "\n",
        "class RNN(nn.Module):\n",
        "    def __init__(self, input_size, hidden_size, output_size):\n",
        "        super(RNN, self).__init__()\n",
        "\n",
        "        self.hidden_size = hidden_size\n",
        "\n",
        "        self.i2h = nn.Linear(input_size, hidden_size)\n",
        "        self.h2h = nn.Linear(hidden_size, hidden_size)\n",
        "        self.h2o = nn.Linear(hidden_size, output_size)\n",
        "        self.softmax = nn.LogSoftmax(dim=1)\n",
        "\n",
        "    def forward(self, input, hidden):\n",
        "        hidden = F.tanh(self.i2h(input) + self.h2h(hidden))\n",
        "        output = self.h2o(hidden)\n",
        "        output = self.softmax(output)\n",
        "        return output, hidden\n",
        "\n",
        "    def initHidden(self):\n",
        "        return torch.zeros(1, self.hidden_size)\n",
        "\n",
        "n_hidden = 128\n",
        "rnn = RNN(n_letters, n_hidden, n_categories)"
      ]
    },
    {
      "cell_type": "markdown",
      "metadata": {
        "id": "pukUHfEBl082"
      },
      "source": [
        "이 네트워크의 한 단계를 실행하려면 입력(현재 문자 Tensor)과\n",
        "이전의 은닉 상태(처음에는 0으로 초기화)를 전달해야 합니다.\n",
        "출력(각 언어의 확률)과 다음 은닉 상태(다음 단계를 위해 유지)를\n",
        "돌려받습니다.\n",
        "\n",
        "\n"
      ]
    },
    {
      "cell_type": "code",
      "execution_count": 30,
      "metadata": {
        "id": "d1oCAl6Dl082"
      },
      "outputs": [],
      "source": [
        "input = letterToTensor('A')\n",
        "hidden = torch.zeros(1, n_hidden)\n",
        "\n",
        "output, next_hidden = rnn(input, hidden)"
      ]
    },
    {
      "cell_type": "markdown",
      "metadata": {
        "id": "RsSpZPPKl082"
      },
      "source": [
        "효율성을 위해서 매 단계마다 새로운 Tensor를 만들고 싶지 않기 때문에\n",
        "``letterToTensor`` 대신 ``lineToTensor`` 를 잘라서 사용할\n",
        "것입니다. 이것은 Tensor의 사전 연산(pre-computing) 배치에 의해\n",
        "더욱 최적화될 수 있습니다.\n",
        "\n",
        "\n"
      ]
    },
    {
      "cell_type": "code",
      "execution_count": 31,
      "metadata": {
        "id": "BVAn_S0hl083",
        "outputId": "d7135437-3cb3-4530-82c9-acaccac3f58d",
        "colab": {
          "base_uri": "https://localhost:8080/"
        }
      },
      "outputs": [
        {
          "output_type": "stream",
          "name": "stdout",
          "text": [
            "tensor([[-2.8046, -3.0718, -2.9767, -2.9796, -2.8644, -2.8912, -2.8292, -2.7719,\n",
            "         -2.9997, -2.8411, -2.9359, -2.9147, -2.8807, -2.7429, -2.8928, -2.8979,\n",
            "         -2.9870, -2.8088]], grad_fn=<LogSoftmaxBackward0>)\n"
          ]
        }
      ],
      "source": [
        "input = lineToTensor('Albert')\n",
        "hidden = torch.zeros(1, n_hidden)\n",
        "\n",
        "output, next_hidden = rnn(input[0], hidden)\n",
        "print(output)"
      ]
    },
    {
      "cell_type": "markdown",
      "metadata": {
        "id": "Tnv9ZsIbl083"
      },
      "source": [
        "보시다시피 출력은 ``<1 x n_categories>`` Tensor이고, 모든 항목은\n",
        "해당 카테고리의 우도(likelihood)입니다(더 높은 것이 더 확률 높음).\n",
        "\n",
        "\n"
      ]
    },
    {
      "cell_type": "markdown",
      "metadata": {
        "id": "62GTvh-ml083"
      },
      "source": [
        "## 학습\n",
        "\n",
        "### 학습 준비\n",
        "\n",
        "학습에 들어가기 전, 몇몇 도움이 되는 함수(helper function)를 만들어야 합니다.\n",
        "첫째는 우리가 알아낸 각 카테고리의 우도(likelihood)인 네트워크 출력을 해석하는 함수입니다.\n",
        "가장 큰 값의 주소를 알기 위해서 ``Tensor.topk`` 를 사용할 수 있습니다.\n",
        "\n",
        "<div class=\"alert alert-info\"><h4>Note</h4><p>역자 주: 네트워크 출력(각 카테고리의 우도, likelihood)으로 가장 확률이 높은\n",
        "   카테고리의 이름(언어)과 카테고리 번호를 반환합니다.</p></div>\n",
        "\n",
        "\n"
      ]
    },
    {
      "cell_type": "code",
      "execution_count": 32,
      "metadata": {
        "id": "JylZputZl083",
        "outputId": "1269fe45-7380-4c7e-8ee1-5b9ed1ee6f50",
        "colab": {
          "base_uri": "https://localhost:8080/"
        }
      },
      "outputs": [
        {
          "output_type": "stream",
          "name": "stdout",
          "text": [
            "('Scottish', 13)\n"
          ]
        }
      ],
      "source": [
        "def categoryFromOutput(output):\n",
        "    top_n, top_i = output.topk(1)  # 텐서의 가장 큰 값 및 주소\n",
        "    category_i = top_i[0].item()   # 텐서에서 정수 값으로 변경\n",
        "    return all_categories[category_i], category_i\n",
        "\n",
        "print(categoryFromOutput(output))"
      ]
    },
    {
      "cell_type": "markdown",
      "metadata": {
        "id": "h3qhCt5Jl083"
      },
      "source": [
        "학습 예시(하나의 이름과 그 언어)를 얻는 빠른 방법도 필요합니다.:\n",
        "\n",
        "\n"
      ]
    },
    {
      "cell_type": "code",
      "execution_count": 33,
      "metadata": {
        "id": "He-MPhNZl083",
        "outputId": "01177ef7-5ad4-43e2-8ebd-e2a7ad81966a",
        "colab": {
          "base_uri": "https://localhost:8080/"
        }
      },
      "outputs": [
        {
          "output_type": "stream",
          "name": "stdout",
          "text": [
            "category = Greek / line = Polites\n",
            "category = Arabic / line = Hadad\n",
            "category = German / line = Baumgartner\n",
            "category = German / line = Martin\n",
            "category = French / line = Labelle\n",
            "category = Dutch / line = Aller\n",
            "category = Polish / line = Jez\n",
            "category = Polish / line = Zielinski\n",
            "category = Portuguese / line = Rocha\n",
            "category = Russian / line = Pochitalin\n"
          ]
        }
      ],
      "source": [
        "import random\n",
        "\n",
        "def randomChoice(l):\n",
        "    return l[random.randint(0, len(l) - 1)]\n",
        "\n",
        "def randomTrainingExample():\n",
        "    category = randomChoice(all_categories)\n",
        "    line = randomChoice(category_lines[category])\n",
        "    category_tensor = torch.tensor([all_categories.index(category)], dtype=torch.long)\n",
        "    line_tensor = lineToTensor(line)\n",
        "    return category, line, category_tensor, line_tensor\n",
        "\n",
        "for i in range(10):\n",
        "    category, line, category_tensor, line_tensor = randomTrainingExample()\n",
        "    print('category =', category, '/ line =', line)"
      ]
    },
    {
      "cell_type": "markdown",
      "metadata": {
        "id": "if_YW5X0l084"
      },
      "source": [
        "### 네트워크 학습\n",
        "\n",
        "이제 이 네트워크를 학습하는 데 필요한 예시(학습 데이터)를 보여주고 추정합니다.\n",
        "만일 틀렸다면 알려 줍니다.\n",
        "\n",
        "RNN의 마지막 계층이 ``nn.LogSoftmax`` 이므로 손실 함수로\n",
        "``nn.NLLLoss`` 가 적합합니다.\n",
        "\n",
        "\n"
      ]
    },
    {
      "cell_type": "code",
      "execution_count": 34,
      "metadata": {
        "id": "tr2SJTuAl084"
      },
      "outputs": [],
      "source": [
        "criterion = nn.NLLLoss()"
      ]
    },
    {
      "cell_type": "markdown",
      "metadata": {
        "id": "47mn3-wZl084"
      },
      "source": [
        "각 학습 루프는 다음과 같습니다:\n",
        "\n",
        "-  입력과 목표 Tensor 생성\n",
        "-  0 로 초기화 된 은닉 상태 생성\n",
        "-  각 문자 읽기\n",
        "\n",
        "-  다음 문자를 위한 은닉 상태 유지\n",
        "\n",
        "-  목표와 최종 출력 비교\n",
        "-  역전파\n",
        "-  출력과 손실 반환\n",
        "\n",
        "\n"
      ]
    },
    {
      "cell_type": "code",
      "execution_count": 35,
      "metadata": {
        "id": "souQPFqNl084"
      },
      "outputs": [],
      "source": [
        "learning_rate = 0.005  # 학습률을 너무 높게 설정하면 발산할 수 있고, 너무 낮으면 학습이 되지 않을 수 있습니다.\n",
        "\n",
        "def train(category_tensor, line_tensor):\n",
        "    hidden = rnn.initHidden()\n",
        "\n",
        "    rnn.zero_grad()\n",
        "\n",
        "    for i in range(line_tensor.size()[0]):\n",
        "        output, hidden = rnn(line_tensor[i], hidden)\n",
        "\n",
        "    loss = criterion(output, category_tensor)\n",
        "    loss.backward()\n",
        "\n",
        "    # 매개변수의 경사도에 학습률을 곱해서 그 매개변수의 값에 더합니다.\n",
        "    for p in rnn.parameters():\n",
        "        p.data.add_(p.grad.data, alpha=-learning_rate)\n",
        "\n",
        "    return output, loss.item()"
      ]
    },
    {
      "cell_type": "markdown",
      "metadata": {
        "id": "pVGULDZnl084"
      },
      "source": [
        "이제 예시 데이터를 사용하여 실행해야 합니다. ``train`` 함수가 출력과 손실을\n",
        "반환하기 때문에 추측을 화면에 출력하고 도식화를 위한 손실을 추적할 수\n",
        "있습니다. 1000개의 예시 데이터가 있기 때문에 ``print_every`` 예제만\n",
        "출력하고, 손실의 평균을 얻습니다.\n",
        "\n",
        "\n"
      ]
    },
    {
      "cell_type": "code",
      "execution_count": 36,
      "metadata": {
        "id": "evRR4fq_l085",
        "outputId": "42edf51d-97aa-4bc4-fdde-401d07b60e5a",
        "colab": {
          "base_uri": "https://localhost:8080/"
        }
      },
      "outputs": [
        {
          "output_type": "stream",
          "name": "stdout",
          "text": [
            "5000 5% (0m 10s) 0.8414 Adamidis / Greek ✓\n",
            "10000 10% (0m 21s) 3.2417 Ventimiglia / Russian ✗ (Italian)\n",
            "15000 15% (0m 32s) 1.4509 Santos / Greek ✗ (Portuguese)\n",
            "20000 20% (0m 45s) 0.6567 Luong / Vietnamese ✓\n",
            "25000 25% (0m 55s) 0.9250 Pesaro / Italian ✓\n",
            "30000 30% (1m 5s) 0.3112 Bach / Vietnamese ✓\n",
            "35000 35% (1m 16s) 3.5718 Schenck / Czech ✗ (Dutch)\n",
            "40000 40% (1m 27s) 0.8135 Glockner / German ✓\n",
            "45000 45% (1m 38s) 2.1291 Madaidhin / Russian ✗ (Irish)\n",
            "50000 50% (1m 49s) 0.4837 Allegro / Italian ✓\n",
            "55000 55% (1m 59s) 0.5074 Fontaine / French ✓\n",
            "60000 60% (2m 10s) 0.2720 Seok / Korean ✓\n",
            "65000 65% (2m 20s) 0.0581 Rutkowski / Polish ✓\n",
            "70000 70% (2m 31s) 4.0315 Sabbadin / Russian ✗ (Italian)\n",
            "75000 75% (2m 42s) 1.0645 Pellar / Czech ✓\n",
            "80000 80% (2m 52s) 1.7121 Janko / Korean ✗ (Russian)\n",
            "85000 85% (3m 2s) 2.2413 Phocas / English ✗ (Greek)\n",
            "90000 90% (3m 12s) 1.5830 Herrero / Italian ✗ (Spanish)\n",
            "95000 95% (3m 23s) 0.9200 Kieu / Chinese ✗ (Vietnamese)\n",
            "100000 100% (3m 33s) 2.2666 Couch / Irish ✗ (English)\n"
          ]
        }
      ],
      "source": [
        "import time\n",
        "import math\n",
        "\n",
        "n_iters = 100000\n",
        "print_every = 5000\n",
        "plot_every = 1000\n",
        "\n",
        "\n",
        "\n",
        "# 도식화를 위한 손실 추적\n",
        "current_loss = 0\n",
        "all_losses = []\n",
        "\n",
        "def timeSince(since):\n",
        "    now = time.time()\n",
        "    s = now - since\n",
        "    m = math.floor(s / 60)\n",
        "    s -= m * 60\n",
        "    return '%dm %ds' % (m, s)\n",
        "\n",
        "start = time.time()\n",
        "\n",
        "for iter in range(1, n_iters + 1):\n",
        "    category, line, category_tensor, line_tensor = randomTrainingExample()\n",
        "    output, loss = train(category_tensor, line_tensor)\n",
        "    current_loss += loss\n",
        "\n",
        "    # ``iter`` 숫자, 손실, 이름, 추측 화면 출력\n",
        "    if iter % print_every == 0:\n",
        "        guess, guess_i = categoryFromOutput(output)\n",
        "        correct = '✓' if guess == category else '✗ (%s)' % category\n",
        "        print('%d %d%% (%s) %.4f %s / %s %s' % (iter, iter / n_iters * 100, timeSince(start), loss, line, guess, correct))\n",
        "\n",
        "    # 현재 평균 손실을 전체 손실 리스트에 추가\n",
        "    if iter % plot_every == 0:\n",
        "        all_losses.append(current_loss / plot_every)\n",
        "        current_loss = 0"
      ]
    },
    {
      "cell_type": "markdown",
      "metadata": {
        "id": "VoDAoJJel085"
      },
      "source": [
        "### 결과 도식화\n",
        "\n",
        "``all_losses`` 를 이용한 손실 도식화는\n",
        "네트워크의 학습을 보여줍니다:\n",
        "\n",
        "\n"
      ]
    },
    {
      "cell_type": "code",
      "execution_count": 37,
      "metadata": {
        "id": "PJexGcbkl085",
        "outputId": "ecb5bcfc-cafe-4277-f136-33b876fc69cc",
        "colab": {
          "base_uri": "https://localhost:8080/",
          "height": 447
        }
      },
      "outputs": [
        {
          "output_type": "execute_result",
          "data": {
            "text/plain": [
              "[<matplotlib.lines.Line2D at 0x7f42272bdd90>]"
            ]
          },
          "metadata": {},
          "execution_count": 37
        },
        {
          "output_type": "display_data",
          "data": {
            "text/plain": [
              "<Figure size 640x480 with 1 Axes>"
            ],
            "image/png": "[encoded data removed]"
          },
          "metadata": {}
        }
      ],
      "source": [
        "import matplotlib.pyplot as plt\n",
        "import matplotlib.ticker as ticker\n",
        "\n",
        "plt.figure()\n",
        "plt.plot(all_losses)"
      ]
    },
    {
      "cell_type": "markdown",
      "metadata": {
        "id": "5ALAsIg6l085"
      },
      "source": [
        "## 결과 평가\n",
        "\n",
        "네트워크가 다른 카테고리에서 얼마나 잘 작동하는지 보기 위해\n",
        "모든 실제 언어(행)가 네트워크에서 어떤 언어로 추측(열)되는지 나타내는\n",
        "혼란 행렬(confusion matrix)을 만듭니다. 혼란 행렬을 계산하기 위해\n",
        "``evaluate()`` 로 많은 수의 샘플을 네트워크에 실행합니다.\n",
        "``evaluate()`` 은 ``train ()`` 과 역전파를 빼면 동일합니다.\n",
        "\n",
        "\n"
      ]
    },
    {
      "cell_type": "code",
      "execution_count": 38,
      "metadata": {
        "id": "nUsgI8zul085",
        "outputId": "4c8f115d-6d8d-47f9-9095-176010e4d8b8",
        "colab": {
          "base_uri": "https://localhost:8080/",
          "height": 575
        }
      },
      "outputs": [
        {
          "output_type": "stream",
          "name": "stderr",
          "text": [
            "/tmp/ipython-input-38-2811754854.py:33: UserWarning: set_ticklabels() should only be used with a fixed number of ticks, i.e. after set_ticks() or using a FixedLocator.\n",
            "  ax.set_xticklabels([''] + all_categories, rotation=90)\n",
            "/tmp/ipython-input-38-2811754854.py:34: UserWarning: set_ticklabels() should only be used with a fixed number of ticks, i.e. after set_ticks() or using a FixedLocator.\n",
            "  ax.set_yticklabels([''] + all_categories)\n"
          ]
        },
        {
          "output_type": "display_data",
          "data": {
            "text/plain": [
              "<Figure size 640x480 with 2 Axes>"
            ],
            "image/png": "[encoded data removed]"
          },
          "metadata": {}
        }
      ],
      "source": [
        "# 혼란 행렬에서 정확한 추측을 추적\n",
        "confusion = torch.zeros(n_categories, n_categories)\n",
        "n_confusion = 10000\n",
        "\n",
        "# 주어진 라인의 출력 반환\n",
        "def evaluate(line_tensor):\n",
        "    hidden = rnn.initHidden()\n",
        "\n",
        "    for i in range(line_tensor.size()[0]):\n",
        "        output, hidden = rnn(line_tensor[i], hidden)\n",
        "\n",
        "    return output\n",
        "\n",
        "# 예시 중 어떤 것이 정확히 예측되었는지 기록\n",
        "for i in range(n_confusion):\n",
        "    category, line, category_tensor, line_tensor = randomTrainingExample()\n",
        "    output = evaluate(line_tensor)\n",
        "    guess, guess_i = categoryFromOutput(output)\n",
        "    category_i = all_categories.index(category)\n",
        "    confusion[category_i][guess_i] += 1\n",
        "\n",
        "# 모든 행을 합계로 나누어 정규화\n",
        "for i in range(n_categories):\n",
        "    confusion[i] = confusion[i] / confusion[i].sum()\n",
        "\n",
        "# 도식 설정\n",
        "fig = plt.figure()\n",
        "ax = fig.add_subplot(111)\n",
        "cax = ax.matshow(confusion.numpy())\n",
        "fig.colorbar(cax)\n",
        "\n",
        "# 축 설정\n",
        "ax.set_xticklabels([''] + all_categories, rotation=90)\n",
        "ax.set_yticklabels([''] + all_categories)\n",
        "\n",
        "# 모든 tick에서 레이블 지정\n",
        "ax.xaxis.set_major_locator(ticker.MultipleLocator(1))\n",
        "ax.yaxis.set_major_locator(ticker.MultipleLocator(1))\n",
        "\n",
        "# sphinx_gallery_thumbnail_number = 2\n",
        "plt.show()"
      ]
    },
    {
      "cell_type": "markdown",
      "metadata": {
        "id": "pqjYwOkol086"
      },
      "source": [
        "주축에서 벗어난 밝은 점을 선택하여 잘못 추측한 언어를 표시할 수 있습니다.\n",
        "예를 들어 한국어는 중국어로 이탈리아어로 스페인어로.\n",
        "그리스어는 매우 잘되는 것으로 영어는 매우 나쁜 것으로 보입니다.\n",
        "(다른 언어들과의 중첩 때문으로 추정)\n",
        "\n",
        "\n"
      ]
    },
    {
      "cell_type": "markdown",
      "metadata": {
        "id": "zokjDAlHl086"
      },
      "source": [
        "### 사용자 입력으로 실행\n",
        "\n",
        "\n"
      ]
    },
    {
      "cell_type": "code",
      "execution_count": 39,
      "metadata": {
        "id": "3wPt66eEl086",
        "outputId": "bf84defc-1314-43db-8b09-70c7413f0597",
        "colab": {
          "base_uri": "https://localhost:8080/"
        }
      },
      "outputs": [
        {
          "output_type": "stream",
          "name": "stdout",
          "text": [
            "\n",
            "> Dovesky\n",
            "(-0.38) Russian\n",
            "(-1.59) Czech\n",
            "(-2.96) English\n",
            "\n",
            "> Jackson\n",
            "(-0.03) Scottish\n",
            "(-3.92) English\n",
            "(-5.40) Greek\n",
            "\n",
            "> Satoshi\n",
            "(-0.22) Japanese\n",
            "(-2.10) Arabic\n",
            "(-3.32) Polish\n"
          ]
        }
      ],
      "source": [
        "def predict(input_line, n_predictions=3):\n",
        "    print('\\n> %s' % input_line)\n",
        "    with torch.no_grad():\n",
        "        output = evaluate(lineToTensor(input_line))\n",
        "\n",
        "        # Get top N categories\n",
        "        topv, topi = output.topk(n_predictions, 1, True)\n",
        "        predictions = []\n",
        "\n",
        "        for i in range(n_predictions):\n",
        "            value = topv[0][i].item()\n",
        "            category_index = topi[0][i].item()\n",
        "            print('(%.2f) %s' % (value, all_categories[category_index]))\n",
        "            predictions.append([value, all_categories[category_index]])\n",
        "\n",
        "predict('Dovesky')\n",
        "predict('Jackson')\n",
        "predict('Satoshi')"
      ]
    },
    {
      "cell_type": "markdown",
      "metadata": {
        "id": "22M7SoFNl086"
      },
      "source": [
        "[실용 PyTorch 저장소](https://github.com/spro/practical-pytorch/tree/master/char-rnn-classification)_\n",
        "의 최종 버전 스크립트는 위 코드를 몇 개의 파일로 분할했습니다.:\n",
        "\n",
        "-  ``data.py`` (파일 읽기)\n",
        "-  ``model.py`` (RNN 정의)\n",
        "-  ``train.py`` (학습 실행)\n",
        "-  ``predict.py`` (커맨드 라인 인자로 ``predict()`` 실행)\n",
        "-  ``server.py`` (``bottle.py`` 를 사용하여 JSON API로 예측 제공)\n",
        "\n",
        "``train.py`` 를 실행하면 학습 및 신경망을 저장합니다.\n",
        "\n",
        "``predict.py`` 를 실행하면 이름으로부터 예측을 실행합니다:\n",
        "\n",
        "```sh\n",
        "$ python predict.py Hazaki\n",
        "(-0.42) Japanese\n",
        "(-1.39) Polish\n",
        "(-3.51) Czech\n",
        "```\n",
        "``server.py`` 를 실행하고 http://localhost:5533/Yourname 을 방문하면\n",
        "예측 값에 대한 JSON 출력을 확인할 수 있습니다.\n",
        "\n",
        "\n"
      ]
    },
    {
      "cell_type": "markdown",
      "metadata": {
        "id": "HkegslsJl086"
      },
      "source": [
        "## 연습\n",
        "\n",
        "-  \"line -> category\" 의 다른 데이터 집합으로 시도해 보십시오, 예를 들어:\n",
        "\n",
        "   -  단어 -> 언어\n",
        "   -  이름 -> 성별\n",
        "   -  캐릭터 이름 -> 작가\n",
        "   -  페이지 제목 -> 블로그 또는 서브레딧\n",
        "\n",
        "-  더 크고 더 나은 모양의 네트워크로 더 나은 결과를 얻으십시오.\n",
        "\n",
        "   -  더 많은 선형 계층을 추가해 보십시오.\n",
        "   -  ``nn.LSTM`` 과 ``nn.GRU`` 계층을 추가해 보십시오.\n",
        "   -  위와 같은 RNN 여러 개를 상위 수준 네트워크로 결합해 보십시오.\n",
        "\n",
        "\n"
      ]
    }
  ],
  "metadata": {
    "kernelspec": {
      "display_name": "Python 3",
      "language": "python",
      "name": "python3"
    },
    "language_info": {
      "codemirror_mode": {
        "name": "ipython",
        "version": 3
      },
      "file_extension": ".py",
      "mimetype": "text/x-python",
      "name": "python",
      "nbconvert_exporter": "python",
      "pygments_lexer": "ipython3",
      "version": "3.10.14"
    },
    "colab": {
      "provenance": [],
      "include_colab_link": true
    }
  },
  "nbformat": 4,
  "nbformat_minor": 0
}